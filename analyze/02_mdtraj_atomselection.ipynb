{
  "cells": [
    {
      "cell_type": "markdown",
      "metadata": {
        "id": "0X69xW8MAEgT"
      },
      "source": [
        "# MDTraj atom selection"
      ]
    },
    {
      "cell_type": "markdown",
      "metadata": {
        "id": "CqrKHWP_AQCm"
      },
      "source": [
        "## MDTrajでの原子選択\n",
        "\n",
        "以下の文書は主に MDTrajのドキュメント https://www.mdtraj.org/1.9.5/examples/atom-selection.html を日本語訳したものです。\n",
        "\n",
        "MDTrajでの原子と残基の選択の基本について説明します。まず、例のトラジェクトリをロードします。"
      ]
    },
    {
      "cell_type": "code",
      "execution_count": null,
      "metadata": {
        "colab": {
          "base_uri": "https://localhost:8080/"
        },
        "id": "evnqDlrYspzP",
        "outputId": "67da212a-83fd-4d74-a1af-6a5129e06d6c"
      },
      "outputs": [],
      "source": [
        "import mdtraj as md\n",
        "import numpy as np\n",
        "\n",
        "# DCDファイルからトラジェクトリを読み込み、対応するPDBトポロジーファイルを使用する\n",
        "# トラジェクトリオブジェクト traj が作成される\n",
        "traj = md.load('../md/3_production.dcd', top='../md/system.pdb')\n",
        "\n",
        "# traj の中身を出力する\n",
        "print(traj)"
      ]
    },
    {
      "cell_type": "markdown",
      "metadata": {
        "id": "cefbXOesMffK"
      },
      "source": [
        "traj.n_atoms や traj.n_residues を使用して、より直接的に原子数や残基数を確認することもできます。"
      ]
    },
    {
      "cell_type": "code",
      "execution_count": null,
      "metadata": {
        "colab": {
          "base_uri": "https://localhost:8080/"
        },
        "id": "QD2u1WU_sPCd",
        "outputId": "86b21f21-f3c8-43c0-94b0-50ffa44f248f"
      },
      "outputs": [],
      "source": [
        "print('原子は何個？ %s' % traj.n_atoms)\n",
        "print('残基は何個？ %s' % traj.n_residues)"
      ]
    },
    {
      "cell_type": "markdown",
      "metadata": {
        "id": "Cal-bvJrMnsH"
      },
      "source": [
        "また、traj.xyz を操作することで原子の位置を操作することもできます。これは、各原子のxyz座標を含むNumPy配列で、次元は(n_frames, n_atoms, 3)です。5フレーム目の10番目の原子の3D座標を探してみましょう。"
      ]
    },
    {
      "cell_type": "code",
      "execution_count": null,
      "metadata": {
        "colab": {
          "base_uri": "https://localhost:8080/"
        },
        "id": "XQJXR0z7GPct",
        "outputId": "b7d93e28-d445-4064-ecaf-ae762412e739"
      },
      "outputs": [],
      "source": [
        "frame_idx = 4 # ゼロから始まるフレーム番号\n",
        "atom_idx = 9 # ゼロから始まる原子インデックス\n",
        "print('10フレーム目の5番目の原子はどこにある？')\n",
        "print('x: %s\\ty: %s\\tz: %s' % tuple(traj.xyz[frame_idx, atom_idx,:]))"
      ]
    },
    {
      "cell_type": "markdown",
      "metadata": {
        "id": "aHG6Ijd4RGnQ"
      },
      "source": [
        "トポロジーオブジェクト、すべてのTrajectoryオブジェクトにはTopologyが含まれています。TrajectoryのTopologyには、系（分子）の結合情報や特定のChain, Residue(残基), Atom情報が含まれています。"
      ]
    },
    {
      "cell_type": "code",
      "execution_count": null,
      "metadata": {
        "colab": {
          "base_uri": "https://localhost:8080/"
        },
        "id": "3Mopsz4kGWtW",
        "outputId": "4ac85fa2-3dd7-4e09-86e8-1fc7e0584b35"
      },
      "outputs": [],
      "source": [
        "topology = traj.topology\n",
        "print(topology)"
      ]
    },
    {
      "cell_type": "markdown",
      "metadata": {
        "id": "XCo_FevPRb8p"
      },
      "source": [
        "トポロジーオブジェクトを使用すれば、特定の原子を選択したり、すべての原子をループしたりすることができます。 (注意: zero-based indexです)"
      ]
    },
    {
      "cell_type": "code",
      "execution_count": null,
      "metadata": {
        "colab": {
          "base_uri": "https://localhost:8080/"
        },
        "id": "ICthR7d6Gg52",
        "outputId": "1d301e88-1dde-4441-824e-0748f42a694c"
      },
      "outputs": [],
      "source": [
        "print('5番目の原子: %s' % topology.atom(4))\n",
        "print('すべての原子: %s' % [atom for atom in topology.atoms])"
      ]
    },
    {
      "cell_type": "markdown",
      "metadata": {
        "id": "WA4HwPQPM0xX"
      },
      "source": [
        "Residue(残基)についても同じことが言えます。"
      ]
    },
    {
      "cell_type": "code",
      "execution_count": null,
      "metadata": {
        "colab": {
          "base_uri": "https://localhost:8080/"
        },
        "id": "v7xYIW1yGoxi",
        "outputId": "5f07b907-2e76-4d84-c133-cc70a0c21980"
      },
      "outputs": [],
      "source": [
        "print('2番目の残基: %s' % traj.topology.residue(1))\n",
        "print('すべての残基: %s' % [residue for residue in traj.topology.residues])"
      ]
    },
    {
      "cell_type": "markdown",
      "metadata": {
        "id": "EUdR5t_qU0lq"
      },
      "source": [
        "さらに、すべての原子と残基もオブジェクトであり、それぞれが独自のpropertyを持っています。以下は、そのうちのいくつかを説明するシンプルな例です。"
      ]
    },
    {
      "cell_type": "code",
      "execution_count": null,
      "metadata": {
        "colab": {
          "base_uri": "https://localhost:8080/"
        },
        "id": "VzRnRE_GUwh-",
        "outputId": "d17b3e11-672d-4d84-ba32-aca2669f2554"
      },
      "outputs": [],
      "source": [
        "atom = topology.atom(10)\n",
        "print('''こんにちは！私は %s 番目の原子で、名前は %s です。\n",
        "私は %s 原子で、%s 個の結合を持っています。\n",
        "私は %s 残基の一部です。''' % (atom.index, atom.name, atom.element.name, atom.n_bonds, atom.residue.name))"
      ]
    },
    {
      "cell_type": "markdown",
      "metadata": {
        "id": "M8lupifvVSK6"
      },
      "source": [
        "また、atom.is_sidechainやresidue.is_proteinのようなより複雑なプロパティもあります。これらを利用することで、よりパワフルな選択が可能になります。"
      ]
    },
    {
      "cell_type": "markdown",
      "metadata": {
        "id": "jDbS6henW0Uq"
      },
      "source": [
        "これらのプロパティをPythonのフィルタリスト機能と組み合わせると強力です。たとえば、分子の側鎖にあるすべての Carbon atom のインデックスを求めたいとしましょう。こんな感じで実現できます。"
      ]
    },
    {
      "cell_type": "code",
      "execution_count": null,
      "metadata": {
        "colab": {
          "base_uri": "https://localhost:8080/"
        },
        "id": "VOvvXd31U_Ci",
        "outputId": "f6c2bf28-8579-4c47-e285-9aaec3ad25ab"
      },
      "outputs": [],
      "source": [
        "print([atom.index for atom in topology.atoms if atom.element.symbol == 'C' and atom.is_sidechain])"
      ]
    },
    {
      "cell_type": "markdown",
      "metadata": {
        "id": "Zdf8-DhvXIhj"
      },
      "source": [
        "または、最初の Chain のすべての 偶数インデックスの Residue (残基) を求めることもできます（ただし、この例では1つの鎖しかありません）"
      ]
    },
    {
      "cell_type": "code",
      "execution_count": null,
      "metadata": {
        "colab": {
          "base_uri": "https://localhost:8080/"
        },
        "id": "ke4_W8fSXA-M",
        "outputId": "d0a65bd7-6042-4b9c-effc-9dc0ecdb713c"
      },
      "outputs": [],
      "source": [
        "print([residue for residue in topology.chain(0).residues if residue.index % 2 == 0])"
      ]
    },
    {
      "cell_type": "markdown",
      "metadata": {
        "id": "ADiayc9pXote"
      },
      "source": [
        "上記のようなフィルタリストのプログラミングに迷っている場合、MDTrajはPyMolやVMDに似た豊富な原子選択言語も提供しています。これには、topology.selectを使用してアクセスできます。最後の2つの残基のすべての原子を探してみましょう。\n",
        "\n",
        "原子選択構文の詳細については、[ドキュメント](https://www.mdtraj.org/1.9.7/atom_selection.html)をご覧ください。"
      ]
    },
    {
      "cell_type": "code",
      "execution_count": null,
      "metadata": {
        "colab": {
          "base_uri": "https://localhost:8080/"
        },
        "id": "2pgEZ3UXXmdJ",
        "outputId": "1058f492-bde4-4099-b8e2-f328579ab322"
      },
      "outputs": [],
      "source": [
        "print(topology.select('resid 1 to 2'))"
      ]
    },
    {
      "cell_type": "markdown",
      "metadata": {
        "id": "YzbM-88GXvli"
      },
      "source": [
        "より複雑な選択も可能です。以下では、主鎖のすべての Nitrogen atom を選択します。"
      ]
    },
    {
      "cell_type": "code",
      "execution_count": null,
      "metadata": {
        "colab": {
          "base_uri": "https://localhost:8080/"
        },
        "id": "G0zRE6byXsN2",
        "outputId": "ffc8c567-7b61-4b38-e14c-700211756db8"
      },
      "outputs": [],
      "source": [
        "print(topology.select('name N and backbone'))"
      ]
    },
    {
      "cell_type": "markdown",
      "metadata": {
        "id": "iYFaXVIYX7hE"
      },
      "source": [
        "これらの結果を生成するコードを見たい場合は、select_expressionを使用できます。これは、atom selection コードの文字列表現を返します。"
      ]
    },
    {
      "cell_type": "code",
      "execution_count": null,
      "metadata": {
        "colab": {
          "base_uri": "https://localhost:8080/"
        },
        "id": "dSPlam1LX3TT",
        "outputId": "21c707bb-49bb-412e-9007-11150f4bdb1e"
      },
      "outputs": [],
      "source": [
        "selection = topology.select_expression('name CA and resid 1 to 2')\n",
        "print(selection)"
      ]
    }
  ],
  "metadata": {
    "colab": {
      "authorship_tag": "ABX9TyMj2IrYDpUEaYS0wE1n/chj",
      "include_colab_link": true,
      "provenance": []
    },
    "kernelspec": {
      "display_name": ".venv",
      "language": "python",
      "name": "python3"
    },
    "language_info": {
      "codemirror_mode": {
        "name": "ipython",
        "version": 3
      },
      "file_extension": ".py",
      "mimetype": "text/x-python",
      "name": "python",
      "nbconvert_exporter": "python",
      "pygments_lexer": "ipython3",
      "version": "3.11.11"
    }
  },
  "nbformat": 4,
  "nbformat_minor": 0
}
