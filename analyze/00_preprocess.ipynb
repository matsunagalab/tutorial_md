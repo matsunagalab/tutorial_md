{
  "cells": [
    {
      "cell_type": "markdown",
      "metadata": {
        "id": "CqrKHWP_AQCm"
      },
      "source": [
        "## タンパク質(solute)部分だけ抜き出す"
      ]
    },
    {
      "cell_type": "markdown",
      "metadata": {
        "id": "N8ywnOMhEwze"
      },
      "source": [
        "溶媒ありのデータ (run.pdb, run.dcd) からタンパク質(solute)だけ抜き出して protein.pdb, protein.dcd として保存するワンライナー"
      ]
    },
    {
      "cell_type": "code",
      "execution_count": 2,
      "metadata": {
        "id": "evnqDlrYspzP"
      },
      "outputs": [],
      "source": [
        "# proteinのみのpdbを作成\n",
        "!python3 -c \"import mdtraj as md; md.load('system.pdb', atom_indices=md.load('system.pdb').topology.select('protein')).save('protein.pdb')\""
      ]
    },
    {
      "cell_type": "code",
      "execution_count": 4,
      "metadata": {
        "id": "ISVyHdWMPs92"
      },
      "outputs": [],
      "source": [
        "# proteinのみのdcdを作成\n",
        "!python3 -c \"import mdtraj as md; md.load('3_production.dcd', top='system.pdb', atom_indices=md.load('system.pdb').topology.select('protein')).save('protein.dcd')\""
      ]
    },
    {
      "cell_type": "markdown",
      "metadata": {
        "id": "OwTuD3PgFLD-"
      },
      "source": [
        "溶媒ありのデータ (run.pdb, run.dcd) から alpha carbonだけ抜き出して ca.pdb, ca.dcd として保存するワンライナー"
      ]
    },
    {
      "cell_type": "code",
      "execution_count": 5,
      "metadata": {
        "id": "DMgeewZOP4zv"
      },
      "outputs": [],
      "source": [
        "!python3 -c \"import mdtraj as md; md.load('system.pdb', atom_indices=md.load('system.pdb').topology.select('name CA')).save('ca.pdb')\""
      ]
    },
    {
      "cell_type": "code",
      "execution_count": 6,
      "metadata": {
        "id": "6a7eFWnw_DI3"
      },
      "outputs": [],
      "source": [
        "!python3 -c \"import mdtraj as md; md.load('3_production.dcd', top='system.pdb', atom_indices=md.load('system.pdb').topology.select('name CA')).save('ca.dcd')\""
      ]
    }
  ],
  "metadata": {
    "colab": {
      "authorship_tag": "ABX9TyOr5jpSWZcM6mI71mtDjEsQ",
      "include_colab_link": true,
      "provenance": []
    },
    "kernelspec": {
      "display_name": "Python 3",
      "name": "python3"
    },
    "language_info": {
      "name": "python"
    }
  },
  "nbformat": 4,
  "nbformat_minor": 0
}
