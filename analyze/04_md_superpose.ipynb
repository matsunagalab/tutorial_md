{
  "cells": [
    {
      "cell_type": "markdown",
      "metadata": {
        "id": "0X69xW8MAEgT"
      },
      "source": [
        "# Superpose of trajectory"
      ]
    },
    {
      "cell_type": "markdown",
      "metadata": {
        "id": "CqrKHWP_AQCm"
      },
      "source": [
        "## トラジェクトリの重ね合わせ\n"
      ]
    },
    {
      "cell_type": "code",
      "execution_count": null,
      "metadata": {
        "id": "evnqDlrYspzP"
      },
      "outputs": [],
      "source": [
        "import mdtraj as md\n",
        "import numpy as np\n",
        "\n",
        "w_ref = md.load('../md/protein.pdb')\n",
        "w = md.load('../md/protein.dcd', top='../md/protein.pdb')"
      ]
    },
    {
      "cell_type": "code",
      "execution_count": null,
      "metadata": {
        "colab": {
          "base_uri": "https://localhost:8080/"
        },
        "id": "yOv8F5pcpPpv",
        "outputId": "bc71f067-fc7c-4f75-a1cb-a61d37948874"
      },
      "outputs": [],
      "source": [
        "w.superpose(w_ref, 0)"
      ]
    },
    {
      "cell_type": "code",
      "execution_count": 7,
      "metadata": {
        "id": "AFpzhDS9t0hZ"
      },
      "outputs": [],
      "source": [
        "# save superposed trajectories\n",
        "w.save('superposed.dcd')"
      ]
    },
    {
      "cell_type": "code",
      "execution_count": null,
      "metadata": {
        "colab": {
          "base_uri": "https://localhost:8080/",
          "height": 465
        },
        "id": "gG41o133pfWe",
        "outputId": "264b6734-ec57-4073-e248-c9ed6d603cc8"
      },
      "outputs": [],
      "source": [
        "import matplotlib.pyplot as plt\n",
        "\n",
        "# Compute RMSD of each frame to the reference\n",
        "w_rmsd = md.rmsd(w, w_ref)\n",
        "\n",
        "# Plot the RMSD\n",
        "plt.figure(figsize=(12, 5))\n",
        "plt.plot(w.time, w_rmsd, label=\"wildtype\")\n",
        "plt.legend()\n",
        "plt.xlabel('Frame')\n",
        "plt.ylabel('RMSD to reference (nm)')\n",
        "plt.show()"
      ]
    }
  ],
  "metadata": {
    "colab": {
      "authorship_tag": "ABX9TyOJxYNvry1eQm/9rnOZxTSH",
      "include_colab_link": true,
      "provenance": []
    },
    "kernelspec": {
      "display_name": ".venv",
      "language": "python",
      "name": "python3"
    },
    "language_info": {
      "codemirror_mode": {
        "name": "ipython",
        "version": 3
      },
      "file_extension": ".py",
      "mimetype": "text/x-python",
      "name": "python",
      "nbconvert_exporter": "python",
      "pygments_lexer": "ipython3",
      "version": "3.11.11"
    }
  },
  "nbformat": 4,
  "nbformat_minor": 0
}
