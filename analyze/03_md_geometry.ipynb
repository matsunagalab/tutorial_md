{
  "cells": [
    {
      "cell_type": "markdown",
      "metadata": {
        "id": "0X69xW8MAEgT"
      },
      "source": [
        "# Geometry analysis"
      ]
    },
    {
      "cell_type": "markdown",
      "metadata": {
        "id": "CqrKHWP_AQCm"
      },
      "source": [
        "## MDTrajを使ってgeometry analysis\n",
        "\n",
        "Geometry関連の関数は[ドキュメント](https://www.mdtraj.org/1.9.7/analysis.html)から確認することができます。ここではいくつかを紹介します。"
      ]
    },
    {
      "cell_type": "code",
      "execution_count": null,
      "metadata": {
        "id": "evnqDlrYspzP"
      },
      "outputs": [],
      "source": [
        "import mdtraj as md\n",
        "import numpy as np\n",
        "\n",
        "traj = md.load('../md/protein.dcd', top='../md/protein.pdb')"
      ]
    },
    {
      "cell_type": "markdown",
      "metadata": {
        "id": "fMo1DVcKU4Z6"
      },
      "source": [
        "原子間距離を計算します"
      ]
    },
    {
      "cell_type": "code",
      "execution_count": null,
      "metadata": {
        "colab": {
          "base_uri": "https://localhost:8080/",
          "height": 465
        },
        "id": "XqF0rKALU3WL",
        "outputId": "6df2a66a-689e-4522-e381-c6d5b2c2bcb1"
      },
      "outputs": [],
      "source": [
        "import matplotlib.pyplot as plt\n",
        "\n",
        "dist = md.compute_distances(traj, [[0, 100], [0, 200]])\n",
        "\n",
        "# Plot inter-domain distance\n",
        "plt.figure(figsize=(12, 5))\n",
        "plt.plot(dist)\n",
        "plt.xlabel('Frame')\n",
        "plt.ylabel('atom-pair distance [nm]')\n",
        "plt.legend(['atom 0-100', 'atom 0-200'])\n",
        "plt.show()"
      ]
    },
    {
      "cell_type": "markdown",
      "metadata": {
        "id": "4IVDsXU-T2GK"
      },
      "source": [
        "ドメイン間の距離を計算します"
      ]
    },
    {
      "cell_type": "code",
      "execution_count": null,
      "metadata": {
        "colab": {
          "base_uri": "https://localhost:8080/"
        },
        "id": "f4jQ4-8uGEnE",
        "outputId": "9c895f6d-afe5-4191-deca-38ace03b9598"
      },
      "outputs": [],
      "source": [
        "domain2_indices = traj.topology.select('resSeq 82 to 164')\n",
        "print(domain2_indices)"
      ]
    },
    {
      "cell_type": "code",
      "execution_count": null,
      "metadata": {
        "colab": {
          "base_uri": "https://localhost:8080/"
        },
        "id": "aGzF6v3MGDVr",
        "outputId": "ee0e0cd5-d9eb-4ba4-dcc1-38841f26e877"
      },
      "outputs": [],
      "source": [
        "traj_domain2 = traj.atom_slice(domain2_indices)\n",
        "print(traj_domain2)"
      ]
    },
    {
      "cell_type": "code",
      "execution_count": null,
      "metadata": {
        "colab": {
          "base_uri": "https://localhost:8080/"
        },
        "id": "QXxHtka6GmzZ",
        "outputId": "e20a90b1-45fd-4116-ab8d-7a4c4ff6ff11"
      },
      "outputs": [],
      "source": [
        "md.compute_center_of_mass(traj_domain2).shape"
      ]
    },
    {
      "cell_type": "code",
      "execution_count": null,
      "metadata": {
        "colab": {
          "base_uri": "https://localhost:8080/",
          "height": 465
        },
        "id": "T95qKWL5Trcm",
        "outputId": "73342e8d-4b8c-4f9a-d0c9-e538d6c0ff5a"
      },
      "outputs": [],
      "source": [
        "import matplotlib.pyplot as plt\n",
        "\n",
        "# Define two domains using atom selections\n",
        "domain1_indices = traj.topology.select('residue 1 to 60')\n",
        "domain2_indices = traj.topology.select('resSeq 82 to 164')\n",
        "\n",
        "# Compute centers of mass\n",
        "domain1_com = md.compute_center_of_mass(traj.atom_slice(domain1_indices))\n",
        "domain2_com = md.compute_center_of_mass(traj.atom_slice(domain2_indices))\n",
        "\n",
        "# Calculate distance between centers of mass\n",
        "com_distance = np.sqrt(np.sum((domain1_com - domain2_com)**2, axis=1))\n",
        "\n",
        "# Plot inter-domain distance\n",
        "plt.figure(figsize=(12, 5))\n",
        "plt.plot(com_distance)\n",
        "plt.xlabel('Frame')\n",
        "plt.ylabel('Inter-domain distance [nm]')\n",
        "plt.show()"
      ]
    },
    {
      "cell_type": "markdown",
      "metadata": {
        "id": "cefbXOesMffK"
      },
      "source": [
        "トラジェクトリの一部における残基間のコンタクトの頻度を計算します"
      ]
    },
    {
      "cell_type": "code",
      "execution_count": null,
      "metadata": {
        "colab": {
          "base_uri": "https://localhost:8080/",
          "height": 665
        },
        "id": "QD2u1WU_sPCd",
        "outputId": "3cdd4a98-b255-439c-9ec5-088a4f9d9c06"
      },
      "outputs": [],
      "source": [
        "import matplotlib.pyplot as plt\n",
        "import numpy as np\n",
        "\n",
        "# Calculate the contact distances for each frame\n",
        "distances, residue_pairs = md.compute_contacts(traj[:10], scheme='closest-heavy')\n",
        "\n",
        "# Average over all frames to get the mean contact map\n",
        "mean_distances = distances.mean(axis=0)\n",
        "\n",
        "# Create an empty 2D array for the contact map\n",
        "distance_map = np.zeros((traj.topology.n_residues, traj.topology.n_residues))\n",
        "\n",
        "# Fill the contact map with the mean contacts\n",
        "for (i, j), distance in zip(residue_pairs, mean_distances):\n",
        "    distance_map[i, j] = distance\n",
        "    distance_map[j, i] = distance\n",
        "\n",
        "# Plot the contact map\n",
        "plt.figure(figsize=(8, 8))\n",
        "plt.imshow(distance_map, cmap='viridis', origin='lower')\n",
        "plt.colorbar(label='Mean contact frequency')\n",
        "plt.xlabel('Residue index')\n",
        "plt.ylabel('Residue index')\n",
        "plt.show()"
      ]
    },
    {
      "cell_type": "code",
      "execution_count": null,
      "metadata": {
        "id": "5zWMVYmJSwkz"
      },
      "outputs": [],
      "source": []
    }
  ],
  "metadata": {
    "colab": {
      "authorship_tag": "ABX9TyMNyD9exKPvtUx3DLHARr/f",
      "include_colab_link": true,
      "provenance": []
    },
    "kernelspec": {
      "display_name": "Python 3",
      "name": "python3"
    },
    "language_info": {
      "name": "python"
    }
  },
  "nbformat": 4,
  "nbformat_minor": 0
}
