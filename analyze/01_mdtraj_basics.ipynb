{
  "cells": [
    {
      "cell_type": "markdown",
      "metadata": {
        "id": "0X69xW8MAEgT"
      },
      "source": [
        "# MDTraj basics"
      ]
    },
    {
      "cell_type": "markdown",
      "metadata": {
        "id": "CqrKHWP_AQCm"
      },
      "source": [
        "## MDTrajを使ってみる\n",
        "\n",
        "以下の文書は MDTrajのドキュメント https://www.mdtraj.org/1.9.7/examples/introduction.html を主に日本語訳したものです。\n",
        "\n",
        "ディスクからトラジェクトリをロードして始めます。MDTrajは自動的にファイル拡張子を解析し、適切なローダーを使用します。\n",
        "Topology情報を含まないファイルをロードするには、Gromacs XTCファイルのようなもの、\n",
        "Topologyを記述する何か、たとえばPDBファイル、をtopキーワード引数で提供する必要があります。"
      ]
    },
    {
      "cell_type": "code",
      "execution_count": null,
      "metadata": {
        "colab": {
          "base_uri": "https://localhost:8080/"
        },
        "id": "evnqDlrYspzP",
        "outputId": "5315306d-a1c6-4c34-cc0b-c3b2417c4f41"
      },
      "outputs": [],
      "source": [
        "import mdtraj as md\n",
        "import numpy as np\n",
        "\n",
        "# DCDファイルからトラジェクトリを読み込み、対応するPDBトポロジーファイルを使用する\n",
        "# トラジェクトリオブジェクト t が作成される\n",
        "t = md.load('../md/3_production.dcd', top='../md/system.pdb')\n",
        "\n",
        "# t の中身を出力する\n",
        "print(t)"
      ]
    },
    {
      "cell_type": "markdown",
      "metadata": {
        "id": "cefbXOesMffK"
      },
      "source": [
        "Trajectoryのフレームの一部だけに興味がある場合は、それをスライスすることができます。"
      ]
    },
    {
      "cell_type": "code",
      "execution_count": null,
      "metadata": {
        "colab": {
          "base_uri": "https://localhost:8080/"
        },
        "id": "QD2u1WU_sPCd",
        "outputId": "95481f66-9246-418b-fd05-2b9e14c9d380"
      },
      "outputs": [],
      "source": [
        "# 最初の10フレームを見てみましょう\n",
        "print(t[:10])"
      ]
    },
    {
      "cell_type": "code",
      "execution_count": null,
      "metadata": {
        "colab": {
          "base_uri": "https://localhost:8080/"
        },
        "id": "49vyl67OFgbd",
        "outputId": "b9ed52c8-4fc2-409a-a492-648e959e9c76"
      },
      "outputs": [],
      "source": [
        "# 最後のフレームを見る\n",
        "print(t[-1])"
      ]
    },
    {
      "cell_type": "markdown",
      "metadata": {
        "id": "Cal-bvJrMnsH"
      },
      "source": [
        "Trajectoryオブジェクトには多くの情報があります。自明なのは\n",
        "デカルト座標です。それらはxyzの下のnumpy配列として格納されています。全ての\n",
        "座標の長さはナノメートルで保存されています。時間単位\n",
        "はピコ秒です。角度はdegree (radianではない) で保存されています。\n",
        "\n",
        "Trajectoryオブジェクトが持っているプロパティやメソッドは[ドキュメント](https://www.mdtraj.org/1.9.7/api/generated/mdtraj.Trajectory.html#)で確認することができます。"
      ]
    },
    {
      "cell_type": "code",
      "execution_count": null,
      "metadata": {
        "colab": {
          "base_uri": "https://localhost:8080/"
        },
        "id": "XQJXR0z7GPct",
        "outputId": "51a3bd6f-12ab-43c7-bdad-5f37cbb4fed3"
      },
      "outputs": [],
      "source": [
        "t.xyz.shape"
      ]
    },
    {
      "cell_type": "code",
      "execution_count": null,
      "metadata": {
        "colab": {
          "base_uri": "https://localhost:8080/"
        },
        "id": "3Mopsz4kGWtW",
        "outputId": "94a67193-30a4-4562-d7d8-69b286e13ce2"
      },
      "outputs": [],
      "source": [
        "np.mean(t.xyz)"
      ]
    },
    {
      "cell_type": "code",
      "execution_count": null,
      "metadata": {
        "colab": {
          "base_uri": "https://localhost:8080/"
        },
        "id": "ICthR7d6Gg52",
        "outputId": "3d4e9432-c46f-4a8c-c8be-6be836e1d5b2"
      },
      "outputs": [],
      "source": [
        "# 最初の10フレームのシミュレーション時間（ピコ秒）\n",
        "t.time[0:10]"
      ]
    },
    {
      "cell_type": "code",
      "execution_count": null,
      "metadata": {
        "colab": {
          "base_uri": "https://localhost:8080/"
        },
        "id": "dEFberZSGLj-",
        "outputId": "3ce74e90-fed2-48d6-b3e7-99d7a5d0d35d"
      },
      "outputs": [],
      "source": [
        "# 最後のフレームの単位セルの長さは？（ナノメートル）\n",
        "t.unitcell_lengths[-1]"
      ]
    },
    {
      "cell_type": "markdown",
      "metadata": {
        "id": "WA4HwPQPM0xX"
      },
      "source": [
        "Trajectoryをディスクに保存するのは簡単です。"
      ]
    },
    {
      "cell_type": "code",
      "execution_count": null,
      "metadata": {
        "id": "-Wi69LDTz2CF"
      },
      "outputs": [],
      "source": [
        "t.save('trajectory.dcd')"
      ]
    },
    {
      "cell_type": "code",
      "execution_count": 12,
      "metadata": {
        "id": "6eG7hvbpM6uo"
      },
      "outputs": [],
      "source": [
        "# フォーマットは拡張子に基づいて解析されます、またはフォーマット固有のsaveメソッドを呼び出すこともできます\n",
        "t[:10].save_dcd('first-ten-frames.dcd')"
      ]
    },
    {
      "cell_type": "markdown",
      "metadata": {
        "id": "HBOhk-fiNAvA"
      },
      "source": [
        "TrajectoryオブジェクトにはTopologyオブジェクトへが含まれており、便利に利用することが出来ます。例えば、alpha carbon のみを含むトラジェクトリのコピーを保存したい場合、以下のようにできます。"
      ]
    },
    {
      "cell_type": "code",
      "execution_count": null,
      "metadata": {
        "colab": {
          "base_uri": "https://localhost:8080/"
        },
        "id": "kD9QEg991OqU",
        "outputId": "3d2946fc-09b8-4aa7-c472-ed484d63295b"
      },
      "outputs": [],
      "source": [
        "t.topology.atoms"
      ]
    },
    {
      "cell_type": "code",
      "execution_count": null,
      "metadata": {
        "id": "vCSgrmobM-7X"
      },
      "outputs": [],
      "source": [
        "atoms_to_keep = [a.index for a in t.topology.atoms if a.name == 'CA']\n",
        "t.restrict_atoms(atoms_to_keep) # この操作はトラジェクトリオブジェクトを変化させます\n",
        "t.save('CA-only.dcd')"
      ]
    },
    {
      "cell_type": "markdown",
      "metadata": {
        "id": "9pu6V8lCQ9Zq"
      },
      "source": [
        "Topogyオブジェクトが持つプロパティやメソッドは[ドキュメント](https://www.mdtraj.org/1.9.7/api/generated/mdtraj.Topology.html)で確認することができます。"
      ]
    }
  ],
  "metadata": {
    "colab": {
      "authorship_tag": "ABX9TyOJZ0iL0H/EVCYOHkEzeAj4",
      "include_colab_link": true,
      "provenance": []
    },
    "kernelspec": {
      "display_name": ".venv",
      "language": "python",
      "name": "python3"
    },
    "language_info": {
      "codemirror_mode": {
        "name": "ipython",
        "version": 3
      },
      "file_extension": ".py",
      "mimetype": "text/x-python",
      "name": "python",
      "nbconvert_exporter": "python",
      "pygments_lexer": "ipython3",
      "version": "3.11.11"
    }
  },
  "nbformat": 4,
  "nbformat_minor": 0
}
