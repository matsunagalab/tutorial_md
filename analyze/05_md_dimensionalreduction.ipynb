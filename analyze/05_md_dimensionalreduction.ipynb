{
  "cells": [
    {
      "cell_type": "markdown",
      "metadata": {
        "id": "0X69xW8MAEgT"
      },
      "source": [
        "# Dimensional reduction"
      ]
    },
    {
      "cell_type": "markdown",
      "metadata": {
        "id": "CqrKHWP_AQCm"
      },
      "source": [
        "## Ca原子座標の主成分分析\n"
      ]
    },
    {
      "cell_type": "code",
      "execution_count": null,
      "metadata": {
        "id": "evnqDlrYspzP"
      },
      "outputs": [],
      "source": [
        "import mdtraj as md\n",
        "import numpy as np\n",
        "\n",
        "w_ref = md.load('../md/protein.pdb')\n",
        "w = md.load('../md/protein.dcd', top='../md/protein.pdb')"
      ]
    },
    {
      "cell_type": "code",
      "execution_count": null,
      "metadata": {
        "colab": {
          "base_uri": "https://localhost:8080/"
        },
        "id": "yOv8F5pcpPpv",
        "outputId": "bf2735aa-5b1a-409c-b0db-037e432e6742"
      },
      "outputs": [],
      "source": [
        "atoms_to_keep = [a.index for a in w.topology.atoms if a.name == 'CA']\n",
        "w.restrict_atoms(atoms_to_keep)\n",
        "w_ref.restrict_atoms(atoms_to_keep)"
      ]
    },
    {
      "cell_type": "code",
      "execution_count": 3,
      "metadata": {
        "id": "6wfII_UOY0Zi"
      },
      "outputs": [],
      "source": [
        "traj = w"
      ]
    },
    {
      "cell_type": "code",
      "execution_count": null,
      "metadata": {
        "colab": {
          "base_uri": "https://localhost:8080/"
        },
        "id": "scVY3rMpbTiQ",
        "outputId": "6fe8f486-bf11-4200-cc6d-b1a3c89a6f12"
      },
      "outputs": [],
      "source": [
        "traj.xyz.shape"
      ]
    },
    {
      "cell_type": "code",
      "execution_count": null,
      "metadata": {
        "colab": {
          "base_uri": "https://localhost:8080/"
        },
        "id": "uR0FF3GVYyGK",
        "outputId": "cb76d245-4068-4ad3-a69b-9b7da57385c1"
      },
      "outputs": [],
      "source": [
        "import copy\n",
        "ref = copy.copy(traj[0])\n",
        "for i in range(10):\n",
        "    traj.superpose(ref)\n",
        "    mean_xyz = np.mean(traj.xyz, axis=0, keepdims=True)\n",
        "    print(np.square(np.sum((ref.xyz - mean_xyz)**2)))\n",
        "    ref.xyz = mean_xyz"
      ]
    },
    {
      "cell_type": "code",
      "execution_count": null,
      "metadata": {
        "colab": {
          "base_uri": "https://localhost:8080/"
        },
        "id": "TvWj33_c2APx",
        "outputId": "65e84fbb-d8f4-44fa-9481-31e72eee26ce"
      },
      "outputs": [],
      "source": [
        "traj.superpose(ref, 0)"
      ]
    },
    {
      "cell_type": "code",
      "execution_count": null,
      "metadata": {
        "colab": {
          "base_uri": "https://localhost:8080/"
        },
        "id": "pSwbFou1b6gd",
        "outputId": "76d800dd-ece2-4d91-a78c-89fb0b007236"
      },
      "outputs": [],
      "source": [
        "traj.xyz.shape"
      ]
    },
    {
      "cell_type": "code",
      "execution_count": null,
      "metadata": {
        "colab": {
          "base_uri": "https://localhost:8080/"
        },
        "id": "QD2u1WU_sPCd",
        "outputId": "c746687d-04dc-4259-ec79-d05cc486c23a"
      },
      "outputs": [],
      "source": [
        "coordinates = traj.xyz.reshape(traj.n_frames, traj.n_atoms*3)\n",
        "coordinates.shape"
      ]
    },
    {
      "cell_type": "code",
      "execution_count": 9,
      "metadata": {
        "id": "gG41o133pfWe"
      },
      "outputs": [],
      "source": [
        "from sklearn.decomposition import PCA\n",
        "from scipy.stats import gaussian_kde\n",
        "import matplotlib.pyplot as plt\n",
        "\n",
        "pca = PCA()\n",
        "pca_result = pca.fit_transform(coordinates)"
      ]
    },
    {
      "cell_type": "code",
      "execution_count": null,
      "metadata": {
        "colab": {
          "base_uri": "https://localhost:8080/",
          "height": 659
        },
        "id": "yQhWHfGcpyAL",
        "outputId": "a9a804c9-389c-4467-d299-28cb8cf0f6d9"
      },
      "outputs": [],
      "source": [
        "# Plot the first two principal components\n",
        "plt.figure(figsize=(10, 7))\n",
        "plt.scatter(x=pca_result[:, 0], marker='.', y=pca_result[:, 1], label=\"wildtype\")\n",
        "plt.legend()\n",
        "plt.xlabel('PC1')\n",
        "plt.ylabel('PC2')\n",
        "plt.title('PCA scatter plot')"
      ]
    },
    {
      "cell_type": "code",
      "execution_count": null,
      "metadata": {
        "colab": {
          "base_uri": "https://localhost:8080/",
          "height": 641
        },
        "id": "y00PdhRLp4OI",
        "outputId": "8cdbcc29-5f22-4eb6-ea55-a1b132f7a59c"
      },
      "outputs": [],
      "source": [
        "# Calculate the potential of mean force\n",
        "kde = gaussian_kde(np.vstack([pca_result[:, 0], pca_result[:, 1]]))\n",
        "\n",
        "# Compute the potential of mean force\n",
        "x, y = np.mgrid[min(pca_result[:, 0]):max(pca_result[:, 0]):100j,\n",
        "                min(pca_result[:, 1]):max(pca_result[:, 1]):100j]\n",
        "positions = np.vstack([x.ravel(), y.ravel()])\n",
        "pmf = np.reshape(kde(positions), x.shape)\n",
        "\n",
        "# Plot the potential of mean force as contours on top of the scatter plot\n",
        "plt.figure(figsize=(10, 7))\n",
        "pmf_normalized = -np.log(pmf) - np.min(-np.log(pmf))\n",
        "plt.contourf(x, y, pmf_normalized, np.arange(0.0, 8.0, 0.5), cmap='viridis')\n",
        "plt.colorbar(label='Free Energy (kT)')\n",
        "plt.title('Free energy sruface (Wild-type)')\n",
        "plt.xlabel('PC1')\n",
        "plt.ylabel('PC2')\n",
        "plt.show()\n"
      ]
    },
    {
      "cell_type": "code",
      "execution_count": null,
      "metadata": {
        "id": "4X2KIu1cdxyv"
      },
      "outputs": [],
      "source": []
    }
  ],
  "metadata": {
    "colab": {
      "authorship_tag": "ABX9TyONEaX0Y+o6bIcHmtJ6TsG8",
      "include_colab_link": true,
      "provenance": []
    },
    "kernelspec": {
      "display_name": ".venv",
      "language": "python",
      "name": "python3"
    },
    "language_info": {
      "codemirror_mode": {
        "name": "ipython",
        "version": 3
      },
      "file_extension": ".py",
      "mimetype": "text/x-python",
      "name": "python",
      "nbconvert_exporter": "python",
      "pygments_lexer": "ipython3",
      "version": "3.11.11"
    }
  },
  "nbformat": 4,
  "nbformat_minor": 0
}
